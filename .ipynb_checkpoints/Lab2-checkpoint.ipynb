{
 "cells": [
  {
   "cell_type": "markdown",
   "id": "dd46a50b-e623-40ea-aa8a-2c7dd24b71f3",
   "metadata": {},
   "source": [
    "Упражнение 1"
   ]
  },
  {
   "cell_type": "code",
   "execution_count": null,
   "id": "c48ecf4f-873c-4dbf-89a1-74d608432452",
   "metadata": {},
   "outputs": [],
   "source": [
    "import numpy as np\n",
    "import matplotlib.pyplot as plt\n",
    "x=[]\n",
    "y=[]\n",
    "i=0\n",
    "with open(\"mutant.txt\",\"r\") as inp:\n",
    "    for line in inp:\n",
    "        if line[0]==\"C\":\n",
    "            continue\n",
    "        x.append(float(line.split()[0]))\n",
    "        y.append(float(line.split()[1]))\n",
    "sp=plt.subplot(121)\n",
    "sp.scatter(x,y)\n",
    "plt.title('Mutant')\n",
    "plt.xlabel('Concentration,nM')\n",
    "plt.ylabel('Response')\n",
    "with open(\"wild_type.txt\",\"r\") as inp:\n",
    "    for line in inp:\n",
    "        if line[0]==\"C\":\n",
    "            continue\n",
    "        x.append(float(line.split()[0]))\n",
    "        y.append(float(line.split()[1]))\n",
    "sp=plt.subplot(122)\n",
    "sp.scatter(x,y)\n",
    "plt.title('Wild type')\n",
    "plt.xlabel('Concentration,nM')\n",
    "plt.ylabel('Response')\n",
    "plt.show()"
   ]
  },
  {
   "cell_type": "markdown",
   "id": "86e4e54e-2934-4e1d-b500-fb1ad8ae9beb",
   "metadata": {},
   "source": [
    "Упражнение 2"
   ]
  },
  {
   "cell_type": "code",
   "execution_count": 8,
   "id": "7bfa5a48-a814-458f-8442-5ff969c9f115",
   "metadata": {},
   "outputs": [
    {
     "data": {
      "image/png": "[encoded data removed]",
      "text/plain": [
       "<Figure size 432x288 with 1 Axes>"
      ]
     },
     "metadata": {
      "needs_background": "light"
     },
     "output_type": "display_data"
    }
   ],
   "source": [
    "import numpy as np\n",
    "import matplotlib.pyplot as plt\n",
    "x=[]\n",
    "y=[]\n",
    "i=0\n",
    "with open(\"Chromo.txt\",\"r\") as inp:\n",
    "    for line in inp:\n",
    "        if line[0]==\"T\":\n",
    "            continue\n",
    "        x.append(float(line.split()[0]))\n",
    "        y.append(float(line.split()[1]))\n",
    "plt.plot(x,y)\n",
    "plt.title('Chromo')\n",
    "plt.xlabel('Concentration,nM')\n",
    "plt.ylabel('Response')\n",
    "plt.show()"
   ]
  },
  {
   "cell_type": "markdown",
   "id": "af817229-e796-459f-a18e-e9b523ca3847",
   "metadata": {},
   "source": [
    "упражнение 3"
   ]
  },
  {
   "cell_type": "code",
   "execution_count": 2,
   "id": "98aab5da-9660-4641-8f36-3fe5838ee065",
   "metadata": {},
   "outputs": [
    {
     "name": "stdout",
     "output_type": "stream",
     "text": [
      "Коэффицент корреляции\n",
      "Для набора данных n1: -0.9117025433725147\n",
      "Для набора данных n2: -0.0033507502032548006\n",
      "Для набора данных n3: 0.05249688772216506\n",
      "Для набора данных n4: -0.19653678303553648\n",
      "Для набора данных n5: -0.4069458455729012\n"
     ]
    }
   ],
   "source": [
    "import numpy as np\n",
    "def corr(x,y):\n",
    "    n=len(x)\n",
    "    c=np.sum((x-np.mean(x))*(y-np.mean(y)))/np.sqrt(np.sum((x-np.mean(x))**2)*np.sum((y-np.mean(y))**2))\n",
    "    return c\n",
    "x1 = [1, 2, 3, 4, 5]\n",
    "y1 = [0.99, 0.49, 0.35, 0.253, 0.18]\n",
    "c1=corr(x1,y1)\n",
    "x2 = np.random.rand(100)\n",
    "y2 = np.random.rand(100)\n",
    "c2=corr(x2,y2)\n",
    "data = 10 * np.random.rand(100) \n",
    "x3 = np.sort(data)              \n",
    "epsilon3 = np.random.rand(100)  \n",
    "y3 = (x3-5)**2 / 10 + epsilon3 - 0.5\n",
    "c3=corr(x3,y3)\n",
    "x4=[]\n",
    "y4=[]\n",
    "with open(\"mutant.txt\",\"r\") as inp:\n",
    "    for line in inp:\n",
    "        if line[0]==\"C\":\n",
    "            continue\n",
    "        x4.append(float(line.split()[0]))\n",
    "        y4.append(float(line.split()[1]))\n",
    "c4=corr(x4,y4)\n",
    "x5=[]\n",
    "y5=[]\n",
    "with open(\"wild_type.txt\",\"r\") as inp:\n",
    "    for line in inp:\n",
    "        if line[0]==\"C\":\n",
    "            continue\n",
    "        x5.append(float(line.split()[0]))\n",
    "        y5.append(float(line.split()[1]))\n",
    "c5=corr(x5,y5)\n",
    "print(\"Коэффицент корреляции\")\n",
    "print(\"Для набора данных n1:\",c1)\n",
    "print(\"Для набора данных n2:\",c2)\n",
    "print(\"Для набора данных n3:\",c3)\n",
    "print(\"Для набора данных n4:\",c4)\n",
    "print(\"Для набора данных n5:\",c5)"
   ]
  },
  {
   "cell_type": "code",
   "execution_count": null,
   "id": "e0d8ab31-a725-4104-b35e-c7ce033432bc",
   "metadata": {},
   "outputs": [],
   "source": []
  }
 ],
 "metadata": {
  "kernelspec": {
   "display_name": "Python 3 (ipykernel)",
   "language": "python",
   "name": "python3"
  },
  "language_info": {
   "codemirror_mode": {
    "name": "ipython",
    "version": 3
   },
   "file_extension": ".py",
   "mimetype": "text/x-python",
   "name": "python",
   "nbconvert_exporter": "python",
   "pygments_lexer": "ipython3",
   "version": "3.9.12"
  }
 },
 "nbformat": 4,
 "nbformat_minor": 5
}
