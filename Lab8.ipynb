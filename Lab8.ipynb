{
 "cells": [
  {
   "cell_type": "markdown",
   "id": "a3571554-8fff-41ae-b866-13e597b13cc2",
   "metadata": {},
   "source": [
    "Упражнение 1"
   ]
  },
  {
   "cell_type": "code",
   "execution_count": 11,
   "id": "bd484b0e-c0b4-408a-9748-a3fb6cee24d4",
   "metadata": {},
   "outputs": [
    {
     "name": "stdout",
     "output_type": "stream",
     "text": [
      "['00.csv.txt', '01.csv.txt', '02.csv.txt', '03.csv.txt', '04.csv.txt', '05.csv.txt', '06.csv.txt', '07.csv.txt', '08.csv.txt', '09.csv.txt', '10.csv.txt', '11.csv.txt', '12.csv.txt', '13.csv.txt', '14.csv.txt', '15.csv.txt', '16.csv.txt', '17.csv.txt', '18.csv.txt', '19.csv.txt', '20.csv.txt', '21.csv.txt', '22.csv.txt', '23.csv.txt', '24.csv.txt', '25.csv.txt', '26.csv.txt', '27.csv.txt', '28.csv.txt', '29.csv.txt', '30.csv.txt', '31.csv.txt', '32.csv.txt', 'food3.png']\n"
     ]
    }
   ],
   "source": [
    "import os\n",
    "import pandas as pd\n",
    "a=list()\n",
    "a=os.listdir('10')\n",
    "print(a)\n",
    "for obj in a:\n",
    "    if os.path.isfile(obj)==True:\n",
    "        x,y=os.path.splitext(obj)\n",
    "        print(\"p\")\n",
    "        if y==\"txt\":\n",
    "            df=pd.read_csv(obj)\n",
    "            df.to_csv(obj)\n",
    "            print(\"p\")\n",
    "        else:\n",
    "            continue\n"
   ]
  },
  {
   "cell_type": "code",
   "execution_count": null,
   "id": "b4a0e22d-a464-4a2c-867a-898381c4b43c",
   "metadata": {},
   "outputs": [],
   "source": []
  }
 ],
 "metadata": {
  "kernelspec": {
   "display_name": "Python 3 (ipykernel)",
   "language": "python",
   "name": "python3"
  },
  "language_info": {
   "codemirror_mode": {
    "name": "ipython",
    "version": 3
   },
   "file_extension": ".py",
   "mimetype": "text/x-python",
   "name": "python",
   "nbconvert_exporter": "python",
   "pygments_lexer": "ipython3",
   "version": "3.9.12"
  }
 },
 "nbformat": 4,
 "nbformat_minor": 5
}
