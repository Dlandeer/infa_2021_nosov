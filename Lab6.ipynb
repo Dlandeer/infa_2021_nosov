{
 "cells": [
  {
   "cell_type": "markdown",
   "id": "00b432d3-97b8-48f0-9a27-99a2ce633ee0",
   "metadata": {},
   "source": [
    "Упражнение 1"
   ]
  },
  {
   "cell_type": "code",
   "execution_count": 35,
   "id": "03d64dd0-f3c5-42f7-9462-7347ce04b23b",
   "metadata": {},
   "outputs": [
    {
     "name": "stdout",
     "output_type": "stream",
     "text": [
      "Полная зарплата за январь: 56842\n",
      "Полная зарплата за февраль: 62085\n",
      "Полная зарплата за март: 69917\n",
      "Полная зарплата за апрель: 77868\n",
      "Полная зарплата за май: 71707\n",
      "Полная зарплата за июнь: 52454\n",
      "Полная зарплата за июль: 66814\n",
      "Полная зарплата за август: 56994\n",
      "Полная зарплата за сентябрь: 78000\n",
      "Полная зарплата за октябрь: 73905\n",
      "Полная зарплата за ноябрь: 82423\n",
      "Полная зарплата за декабрь: 80890\n",
      "Полная зарплата за год: 829899\n"
     ]
    },
    {
     "data": {
      "text/html": [
       "<div>\n",
       "<style scoped>\n",
       "    .dataframe tbody tr th:only-of-type {\n",
       "        vertical-align: middle;\n",
       "    }\n",
       "\n",
       "    .dataframe tbody tr th {\n",
       "        vertical-align: top;\n",
       "    }\n",
       "\n",
       "    .dataframe thead th {\n",
       "        text-align: right;\n",
       "    }\n",
       "</style>\n",
       "<table border=\"1\" class=\"dataframe\">\n",
       "  <thead>\n",
       "    <tr style=\"text-align: right;\">\n",
       "      <th></th>\n",
       "      <th>Base</th>\n",
       "      <th>Bonus</th>\n",
       "    </tr>\n",
       "    <tr>\n",
       "      <th>Month</th>\n",
       "      <th></th>\n",
       "      <th></th>\n",
       "    </tr>\n",
       "  </thead>\n",
       "  <tbody>\n",
       "    <tr>\n",
       "      <th>January</th>\n",
       "      <td>38400</td>\n",
       "      <td>18442</td>\n",
       "    </tr>\n",
       "    <tr>\n",
       "      <th>February</th>\n",
       "      <td>45600</td>\n",
       "      <td>16485</td>\n",
       "    </tr>\n",
       "    <tr>\n",
       "      <th>March</th>\n",
       "      <td>52800</td>\n",
       "      <td>17117</td>\n",
       "    </tr>\n",
       "    <tr>\n",
       "      <th>April</th>\n",
       "      <td>50400</td>\n",
       "      <td>27468</td>\n",
       "    </tr>\n",
       "    <tr>\n",
       "      <th>May</th>\n",
       "      <td>45600</td>\n",
       "      <td>26107</td>\n",
       "    </tr>\n",
       "    <tr>\n",
       "      <th>June</th>\n",
       "      <td>50400</td>\n",
       "      <td>2054</td>\n",
       "    </tr>\n",
       "    <tr>\n",
       "      <th>July</th>\n",
       "      <td>50400</td>\n",
       "      <td>16414</td>\n",
       "    </tr>\n",
       "    <tr>\n",
       "      <th>August</th>\n",
       "      <td>55200</td>\n",
       "      <td>1794</td>\n",
       "    </tr>\n",
       "    <tr>\n",
       "      <th>September</th>\n",
       "      <td>52800</td>\n",
       "      <td>25200</td>\n",
       "    </tr>\n",
       "    <tr>\n",
       "      <th>October</th>\n",
       "      <td>50400</td>\n",
       "      <td>23505</td>\n",
       "    </tr>\n",
       "    <tr>\n",
       "      <th>November</th>\n",
       "      <td>52800</td>\n",
       "      <td>29623</td>\n",
       "    </tr>\n",
       "    <tr>\n",
       "      <th>December</th>\n",
       "      <td>52800</td>\n",
       "      <td>28090</td>\n",
       "    </tr>\n",
       "  </tbody>\n",
       "</table>\n",
       "</div>"
      ],
      "text/plain": [
       "            Base  Bonus\n",
       "Month                  \n",
       "January    38400  18442\n",
       "February   45600  16485\n",
       "March      52800  17117\n",
       "April      50400  27468\n",
       "May        45600  26107\n",
       "June       50400   2054\n",
       "July       50400  16414\n",
       "August     55200   1794\n",
       "September  52800  25200\n",
       "October    50400  23505\n",
       "November   52800  29623\n",
       "December   52800  28090"
      ]
     },
     "execution_count": 35,
     "metadata": {},
     "output_type": "execute_result"
    }
   ],
   "source": [
    "import pandas as pd\n",
    "df=pd.read_excel(\"task1_salary.xls\",index_col=0)\n",
    "x,x1,x2,x3,x4,x5,x6,x7,x8,x9,x10,x11=df.sum(axis=1)\n",
    "print(\"Полная зарплата за январь:\",x)\n",
    "print(\"Полная зарплата за февраль:\",x1)\n",
    "print(\"Полная зарплата за март:\",x2)\n",
    "print(\"Полная зарплата за апрель:\",x3)\n",
    "print(\"Полная зарплата за май:\",x4)\n",
    "print(\"Полная зарплата за июнь:\",x5)\n",
    "print(\"Полная зарплата за июль:\",x6)\n",
    "print(\"Полная зарплата за август:\",x7)\n",
    "print(\"Полная зарплата за сентябрь:\",x8)\n",
    "print(\"Полная зарплата за октябрь:\",x9)\n",
    "print(\"Полная зарплата за ноябрь:\",x10)\n",
    "print(\"Полная зарплата за декабрь:\",x11)\n",
    "print(\"Полная зарплата за год:\",x+x1+x2+x3+x4+x5+x6+x7+x8+x9+x10+x11)\n",
    "df\n",
    "\n",
    "\n"
   ]
  },
  {
   "cell_type": "markdown",
   "id": "2ec6b25d-7a8d-4e80-abea-82e8475b214b",
   "metadata": {},
   "source": [
    "Упражнение 2"
   ]
  },
  {
   "cell_type": "code",
   "execution_count": 50,
   "id": "52d14d12-10b4-4166-9586-431a152958ce",
   "metadata": {},
   "outputs": [
    {
     "data": {
      "image/png": "[encoded data removed]",
      "text/plain": [
       "<Figure size 432x288 with 1 Axes>"
      ]
     },
     "metadata": {
      "needs_background": "light"
     },
     "output_type": "display_data"
    }
   ],
   "source": [
    "import pandas as pd\n",
    "df=pd.read_excel('task2_column_names.ods')\n",
    "x,*y=df.columns\n",
    "df.plot(x,y)\n",
    "df.to_excel(\"lab6_res.xlsx\",index=False,header=[\"Время\",\"Неразбавленный тестируемый образец с модулятором\",\"Разбавленный в 3 раза тестируемый образец с модулятором\",\"Разбавленный в 9 раз тестируемый образец с модулятором\",\"Разбавленный в 27 раз тестируемый образец с модулятором\",\"Разбавленный в 81 раз тестируемый образец с модулятором\",\"Неразбавленный тестируемый образец без модулятора\",\"Разбавленный в 3 раза тестируемый образец без модулятора\",\"Разбавленный в 9 раз тестируемый образец без модулятора\",\"Разбавленный в 27 раз тестируемый образец без модулятора\",\"Разбавленный в 81 раз тестируемый образец без модулятора\",\"Неразбавленный контрольный образец с модулятором\",\"Разбавленный в 3 раза контрольный образец с модулятором\",\"Разбавленный в 9 раз контрольный образец с модулятором\",\"Разбавленный в 27 раз контрольный образец с модулятором\",\"Разбавленный в 81 раз контрольный образец с модулятором\",\"Неразбавленный контрольный образец без модулятора\",\"Разбавленный в 3 раза контрольный образец без модулятора\",\"Разбавленный в 9 раз контрольный образец без модулятора\",\"Разбавленный в 27 раз контрольный образец без модулятора\",\"Разбавленный в 81 раз контрольный образец без модулятора\"])"
   ]
  },
  {
   "cell_type": "markdown",
   "id": "ea356a2e-9f6c-48aa-87c7-5812ab33fe43",
   "metadata": {},
   "source": [
    "Упражнение 3"
   ]
  },
  {
   "cell_type": "code",
   "execution_count": 93,
   "id": "9fb4d3c8-54a2-4666-b741-b548d1874bed",
   "metadata": {},
   "outputs": [],
   "source": [
    "import pandas as pd\n",
    "df=pd.read_excel(\"task1_salary.xls\",index_col=0)\n",
    "total=df.columns\n",
    "df_new=df[total].sum(axis=1)\n",
    "df_full=pd.concat([df,df_new],axis=1)\n",
    "df_full=df_full.rename({\"Base\":\"Base\",\n",
    "                        \"Bonus\":\"Bonus\",\n",
    "                        \"0 \":\"Total\"},axis=\"columns\")\n",
    "df_full.to_excel(\"lab6_res2.xlsx\",header=['Base','Bonus',\"Total\"])"
   ]
  },
  {
   "cell_type": "code",
   "execution_count": null,
   "id": "870fec01-5d8d-4998-ba53-4b71017dc65c",
   "metadata": {},
   "outputs": [],
   "source": []
  }
 ],
 "metadata": {
  "kernelspec": {
   "display_name": "Python 3 (ipykernel)",
   "language": "python",
   "name": "python3"
  },
  "language_info": {
   "codemirror_mode": {
    "name": "ipython",
    "version": 3
   },
   "file_extension": ".py",
   "mimetype": "text/x-python",
   "name": "python",
   "nbconvert_exporter": "python",
   "pygments_lexer": "ipython3",
   "version": "3.9.12"
  }
 },
 "nbformat": 4,
 "nbformat_minor": 5
}
