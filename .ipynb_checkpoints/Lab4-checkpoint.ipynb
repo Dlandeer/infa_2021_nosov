{
 "cells": [
  {
   "cell_type": "markdown",
   "id": "8f27e3ef-84f8-43d2-bad1-3f3658299d57",
   "metadata": {},
   "source": [
    "Упражнение 1"
   ]
  },
  {
   "cell_type": "code",
   "execution_count": 4,
   "id": "07956fea-1bea-4fde-b2da-463ffb497f0f",
   "metadata": {},
   "outputs": [
    {
     "name": "stdout",
     "output_type": "stream",
     "text": [
      "Массивы объедененные по столбцам\n",
      "[[  2   1   3]\n",
      " [ 32  12  23]\n",
      " [123 324 768]\n",
      " [  2  32 123]\n",
      " [  1  12 324]\n",
      " [  3  23 768]]\n",
      "Массивы объедененные по строкам\n",
      "[[  2   1   3   2  32 123]\n",
      " [ 32  12  23   1  12 324]\n",
      " [123 324 768   3  23 768]]\n",
      "Массивы объедененные без оси\n",
      "[  2   1   3  32  12  23 123 324 768   2  32 123   1  12 324   3  23 768]\n"
     ]
    }
   ],
   "source": [
    "import numpy as np\n",
    "a=np.array([[2,1,3],[32,12,23],[123,324,768]])\n",
    "a=np.sort(a,axis=0)\n",
    "at=a.T\n",
    "sum1=np.concatenate((a,at))\n",
    "print('Массивы объедененные по столбцам')\n",
    "print(sum1)\n",
    "sum2=np.concatenate((a,at),axis=1)\n",
    "print('Массивы объедененные по строкам')\n",
    "print(sum2)\n",
    "sum3=np.concatenate((a,at),axis=None) \n",
    "print('Массивы объедененные без оси')\n",
    "print(sum3)"
   ]
  },
  {
   "cell_type": "markdown",
   "id": "74b14a07-d7a8-4546-aedb-f5a2afa5ade1",
   "metadata": {},
   "source": [
    "Упражнение 2"
   ]
  },
  {
   "cell_type": "code",
   "execution_count": 12,
   "id": "60212a71-47a0-45bd-9632-95463fc7ca16",
   "metadata": {},
   "outputs": [
    {
     "name": "stdin",
     "output_type": "stream",
     "text": [
      " 1\n",
      " 2\n",
      " 3\n",
      " 4\n",
      " 5\n",
      " 6\n",
      " 7\n",
      " 8\n",
      " 9\n",
      " 8\n",
      " 7\n",
      " 6\n",
      " 5\n",
      " 4\n",
      " 3\n",
      " 2\n",
      " 1\n",
      " 12\n",
      " 3\n",
      " 4\n"
     ]
    },
    {
     "data": {
      "text/plain": [
       "array([ 1,  2,  3,  4,  5,  6,  7,  8,  9,  8,  7,  6,  5,  4,  3,  2,  1,\n",
       "       12,  3,  4], dtype=int8)"
      ]
     },
     "execution_count": 12,
     "metadata": {},
     "output_type": "execute_result"
    }
   ],
   "source": [
    "import numpy as np\n",
    "a=list()\n",
    "numb=20\n",
    "for i in range(numb):\n",
    "    e=int(input())\n",
    "    a.append(e)\n",
    "if np.amax(a)<=30:\n",
    "    a=np.array(a,dtype=np.int8)\n",
    "if np.amin(a)<=0:\n",
    "    a=np.array(a,dtype=np.uint8)\n",
    "else:\n",
    "    a=np.array(a)\n",
    "a"
   ]
  },
  {
   "cell_type": "markdown",
   "id": "d7b32ac6-e22a-4488-82d6-d371126acb40",
   "metadata": {},
   "source": [
    "Упражнение 3"
   ]
  },
  {
   "cell_type": "code",
   "execution_count": 25,
   "id": "6046eccf-1569-4edc-8325-e703077f8c8f",
   "metadata": {},
   "outputs": [
    {
     "ename": "ValueError",
     "evalue": "invalid literal for int() with base 10: '5-Apr'",
     "output_type": "error",
     "traceback": [
      "\u001b[1;31m---------------------------------------------------------------------------\u001b[0m",
      "\u001b[1;31mValueError\u001b[0m                                Traceback (most recent call last)",
      "Input \u001b[1;32mIn [25]\u001b[0m, in \u001b[0;36m<module>\u001b[1;34m\u001b[0m\n\u001b[0;32m      5\u001b[0m \u001b[38;5;28;01mif\u001b[39;00m line[\u001b[38;5;241m0\u001b[39m]\u001b[38;5;241m==\u001b[39m\u001b[38;5;124m\"\u001b[39m\u001b[38;5;124mD\u001b[39m\u001b[38;5;124m\"\u001b[39m:\n\u001b[0;32m      6\u001b[0m     \u001b[38;5;28;01mcontinue\u001b[39;00m\n\u001b[1;32m----> 7\u001b[0m a\u001b[38;5;241m=\u001b[39m\u001b[43mnp\u001b[49m\u001b[38;5;241;43m.\u001b[39;49m\u001b[43marray\u001b[49m\u001b[43m(\u001b[49m\u001b[43mline\u001b[49m\u001b[38;5;241;43m.\u001b[39;49m\u001b[43msplit\u001b[49m\u001b[43m(\u001b[49m\u001b[43m)\u001b[49m\u001b[43m,\u001b[49m\u001b[43mdtype\u001b[49m\u001b[38;5;241;43m=\u001b[39;49m\u001b[43m[\u001b[49m\u001b[43m(\u001b[49m\u001b[38;5;124;43m'\u001b[39;49m\u001b[38;5;124;43mDate\u001b[39;49m\u001b[38;5;124;43m'\u001b[39;49m\u001b[43m,\u001b[49m\u001b[38;5;28;43mstr\u001b[39;49m\u001b[43m)\u001b[49m\u001b[43m,\u001b[49m\u001b[43m(\u001b[49m\u001b[38;5;124;43m'\u001b[39;49m\u001b[38;5;124;43mName\u001b[39;49m\u001b[38;5;124;43m'\u001b[39;49m\u001b[43m,\u001b[49m\u001b[38;5;28;43mstr\u001b[39;49m\u001b[43m)\u001b[49m\u001b[43m,\u001b[49m\u001b[43m(\u001b[49m\u001b[38;5;124;43m'\u001b[39;49m\u001b[38;5;124;43mVolume\u001b[39;49m\u001b[38;5;124;43m'\u001b[39;49m\u001b[43m,\u001b[49m\u001b[38;5;28;43mint\u001b[39;49m\u001b[43m)\u001b[49m\u001b[43m,\u001b[49m\u001b[43m(\u001b[49m\u001b[38;5;124;43m'\u001b[39;49m\u001b[38;5;124;43mComment\u001b[39;49m\u001b[38;5;124;43m'\u001b[39;49m\u001b[43m,\u001b[49m\u001b[38;5;28;43mstr\u001b[39;49m\u001b[43m)\u001b[49m\u001b[43m]\u001b[49m\u001b[43m)\u001b[49m\n\u001b[0;32m      8\u001b[0m \u001b[38;5;28;01mif\u001b[39;00m data[\u001b[38;5;241m0\u001b[39m]\u001b[38;5;241m==\u001b[39m\u001b[38;5;241m0\u001b[39m:\n\u001b[0;32m      9\u001b[0m     data\u001b[38;5;241m=\u001b[39mnp\u001b[38;5;241m.\u001b[39marray(line\u001b[38;5;241m.\u001b[39msplit(),dtype\u001b[38;5;241m=\u001b[39m[(\u001b[38;5;124m'\u001b[39m\u001b[38;5;124mDate\u001b[39m\u001b[38;5;124m'\u001b[39m,\u001b[38;5;28mstr\u001b[39m),(\u001b[38;5;124m'\u001b[39m\u001b[38;5;124mName\u001b[39m\u001b[38;5;124m'\u001b[39m,\u001b[38;5;28mstr\u001b[39m),(\u001b[38;5;124m'\u001b[39m\u001b[38;5;124mVolume\u001b[39m\u001b[38;5;124m'\u001b[39m,\u001b[38;5;28mint\u001b[39m),(\u001b[38;5;124m'\u001b[39m\u001b[38;5;124mComment\u001b[39m\u001b[38;5;124m'\u001b[39m,\u001b[38;5;28mstr\u001b[39m)])\n",
      "\u001b[1;31mValueError\u001b[0m: invalid literal for int() with base 10: '5-Apr'"
     ]
    }
   ],
   "source": [
    "import numpy as np\n",
    "data=[0]\n",
    "with open(\"Cell_culture.txt\",\"r\") as inp:\n",
    "     for line in inp:\n",
    "        if line[0]==\"D\":\n",
    "            continue\n",
    "        a=np.array([line.split()[0],line.split()[1],line.split()[2],line.split()[3]],dtype=[('Date',str),('Name',str),('Volume',int),('Comment',str)])\n",
    "        if data[0]==0:\n",
    "            data=np.array([line.split()[0],line.split()[1],line.split()[2],line.split()[3]],dtype=[('Date',str),('Name',str),('Volume',int),('Comment',str)])\n",
    "        else:\n",
    "            np.vstack((data,a))\n",
    "sum=np.sum(data[data[\"Date\"]=='5-Apr'][\"Volume\"])\n",
    "print('Сумма культуры за 5 апреля:',sum)\n",
    "data[data[\"Date\"]=='9-Apr'][\"Name\"]"
   ]
  },
  {
   "cell_type": "code",
   "execution_count": null,
   "id": "37460e76-9daf-48b5-9e97-2425c4c0c653",
   "metadata": {},
   "outputs": [],
   "source": []
  }
 ],
 "metadata": {
  "kernelspec": {
   "display_name": "Python 3 (ipykernel)",
   "language": "python",
   "name": "python3"
  },
  "language_info": {
   "codemirror_mode": {
    "name": "ipython",
    "version": 3
   },
   "file_extension": ".py",
   "mimetype": "text/x-python",
   "name": "python",
   "nbconvert_exporter": "python",
   "pygments_lexer": "ipython3",
   "version": "3.9.12"
  }
 },
 "nbformat": 4,
 "nbformat_minor": 5
}
