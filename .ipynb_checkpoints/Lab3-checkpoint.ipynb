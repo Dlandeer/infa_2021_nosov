{
 "cells": [
  {
   "cell_type": "markdown",
   "id": "d02dfa80-0fdc-4c79-b326-d8bbd9a3256c",
   "metadata": {},
   "source": [
    "Упражнение 1"
   ]
  },
  {
   "cell_type": "code",
   "execution_count": 13,
   "id": "0c37f770-34ca-4f94-b41d-a3680b662b6c",
   "metadata": {},
   "outputs": [
    {
     "data": {
      "text/plain": [
       "<function matplotlib.pyplot.show(close=None, block=None)>"
      ]
     },
     "execution_count": 13,
     "metadata": {},
     "output_type": "execute_result"
    },
    {
     "data": {
      "image/png": "[encoded data removed]",
      "text/plain": [
       "<Figure size 432x288 with 5 Axes>"
      ]
     },
     "metadata": {
      "needs_background": "light"
     },
     "output_type": "display_data"
    }
   ],
   "source": [
    "import numpy as np\n",
    "import matplotlib.pyplot as plt\n",
    "t=[]\n",
    "s1=[]\n",
    "s3=[]\n",
    "s9=[]\n",
    "s27=[]\n",
    "s81=[]\n",
    "with open(\"melting.txt\",\"r\") as inp:\n",
    "    for line in inp:\n",
    "        if line[0]==\"t\":\n",
    "            continue\n",
    "        t.append(float(line.split()[0]))\n",
    "        s1.append(float(line.split()[1]))\n",
    "        s3.append(float(line.split()[2]))\n",
    "        s9.append(float(line.split()[3]))\n",
    "        s27.append(float(line.split()[4]))\n",
    "        s81.append(float(line.split()[5]))\n",
    "def norm(s):\n",
    "    maxi=np.amax(s)\n",
    "    mini=np.amin(s)\n",
    "    size=np.argmax(s)\n",
    "    raz=maxi-mini\n",
    "    normed=s/raz\n",
    "    num=np.argmin(s)\n",
    "    s[num]=0\n",
    "    s[size]=1\n",
    "    return np.clip(normed,0,1)\n",
    "s1=norm(s1)\n",
    "s3=norm(s3)\n",
    "s9=norm(s9)\n",
    "s27=norm(s27)\n",
    "s81=norm(s81)\n",
    "p=plt.subplot(231)\n",
    "plt.plot(t,s1)\n",
    "p=plt.subplot(232)\n",
    "plt.plot(t,s3)\n",
    "p=plt.subplot(233)\n",
    "plt.plot(t,s9)\n",
    "p=plt.subplot(234)\n",
    "plt.plot(t,s27)\n",
    "p=plt.subplot(235)\n",
    "plt.plot(t,s81)\n",
    "plt.show\n"
   ]
  },
  {
   "cell_type": "markdown",
   "id": "eb6bb67b-2514-4f79-8598-b64734ba644d",
   "metadata": {},
   "source": [
    "Упражнение 2"
   ]
  },
  {
   "cell_type": "code",
   "execution_count": 40,
   "id": "f34e824f-cdfd-4141-87de-a70a653d51cb",
   "metadata": {},
   "outputs": [
    {
     "name": "stdout",
     "output_type": "stream",
     "text": [
      "Средние по столбцам первого массива: [50.35 58.65 50.55 45.35 57.4 ]\n",
      "Средние по столбцам второго массива: [39.61111111 55.5        51.55555556 53.55555556 49.94444444 58.5       ]\n"
     ]
    }
   ],
   "source": [
    "import numpy as np\n",
    "array1=[]\n",
    "array2=[]\n",
    "y=0\n",
    "x=0\n",
    "with open(\"ex2_1.txt\",\"r\") as inp:\n",
    "    for line in inp:\n",
    "        y+=1\n",
    "        x=len(line.split())\n",
    "        for i in range(x):\n",
    "            array1.append(int(line.split()[i]))\n",
    "array1=np.array(array1)\n",
    "array1=array1.reshape(y,x)\n",
    "print(\"Средние по столбцам первого массива:\", np.mean(array1,axis=0))\n",
    "x=0\n",
    "y=0\n",
    "with open(\"ex2_2.txt\",\"r\") as inp:\n",
    "    for line in inp:\n",
    "        y+=1\n",
    "        x=len(line.split())\n",
    "        for i in range(x):\n",
    "            array2.append(int(line.split()[i]))\n",
    "array2=np.array(array2)\n",
    "array2=array2.reshape(y,x)\n",
    "print(\"Средние по столбцам второго массива:\", np.mean(array2,axis=0))"
   ]
  },
  {
   "cell_type": "markdown",
   "id": "3822ed4f-2a8b-45c6-807e-25d238460993",
   "metadata": {},
   "source": [
    "Упражнение 3"
   ]
  },
  {
   "cell_type": "code",
   "execution_count": 45,
   "id": "0db6bd94-f96d-4430-9ca4-49f4aac50e86",
   "metadata": {},
   "outputs": [
    {
     "name": "stdout",
     "output_type": "stream",
     "text": [
      "Сумма массива для столбцов: [34 34 34 34]\n",
      "Сумма массива для строк: [34 34 34 34]\n"
     ]
    }
   ],
   "source": [
    "import numpy as np\n",
    "square = np.array([\n",
    "    [16, 3, 2, 13],\n",
    "    [5, 10, 11, 8],\n",
    "    [9, 6, 7, 12],\n",
    "    [4, 15, 14, 1]\n",
    "])\n",
    "print(\"Сумма массива для столбцов:\",np.sum(square,axis=0))\n",
    "print(\"Сумма массива для строк:\",np.sum(square,axis=1))"
   ]
  },
  {
   "cell_type": "markdown",
   "id": "e0b015b7-a98a-46b2-a0f6-0f206327012c",
   "metadata": {},
   "source": [
    "Упражнение 4"
   ]
  },
  {
   "cell_type": "code",
   "execution_count": 56,
   "id": "3c8d4e9e-3716-4787-866a-2697e8523c87",
   "metadata": {},
   "outputs": [
    {
     "ename": "IndexError",
     "evalue": "pop index out of range",
     "output_type": "error",
     "traceback": [
      "\u001b[1;31m---------------------------------------------------------------------------\u001b[0m",
      "\u001b[1;31mIndexError\u001b[0m                                Traceback (most recent call last)",
      "Input \u001b[1;32mIn [56]\u001b[0m, in \u001b[0;36m<module>\u001b[1;34m\u001b[0m\n\u001b[0;32m     14\u001b[0m \u001b[38;5;28;01mfor\u001b[39;00m i \u001b[38;5;129;01min\u001b[39;00m \u001b[38;5;28mrange\u001b[39m(n):\n\u001b[0;32m     15\u001b[0m     \u001b[38;5;28;01mif\u001b[39;00m v[i]\u001b[38;5;241m==\u001b[39m\u001b[38;5;28;01mTrue\u001b[39;00m:\n\u001b[1;32m---> 16\u001b[0m         \u001b[43ma\u001b[49m\u001b[38;5;241;43m.\u001b[39;49m\u001b[43mpop\u001b[49m\u001b[43m(\u001b[49m\u001b[43mi\u001b[49m\u001b[43m)\u001b[49m\n\u001b[0;32m     17\u001b[0m mean2\u001b[38;5;241m=\u001b[39mnp\u001b[38;5;241m.\u001b[39mmean(a)\n\u001b[0;32m     18\u001b[0m sigma2\u001b[38;5;241m=\u001b[39mnp\u001b[38;5;241m.\u001b[39msqrt((\u001b[38;5;241m1\u001b[39m\u001b[38;5;241m/\u001b[39m(n\u001b[38;5;241m-\u001b[39m\u001b[38;5;241m1\u001b[39m))\u001b[38;5;241m*\u001b[39mnp\u001b[38;5;241m.\u001b[39msum((a\u001b[38;5;241m-\u001b[39mnp\u001b[38;5;241m.\u001b[39mmean(a))\u001b[38;5;241m*\u001b[39m\u001b[38;5;241m*\u001b[39m\u001b[38;5;241m2\u001b[39m))\n",
      "\u001b[1;31mIndexError\u001b[0m: pop index out of range"
     ]
    }
   ],
   "source": [
    "import numpy as np\n",
    "a=[]\n",
    "with open(\"ex4.txt\",\"r\") as inp:\n",
    "    for line in inp:\n",
    "        a.append(int(line.split()[0]))\n",
    "q1_a = np.percentile(a, 25)\n",
    "q3_a = np.percentile(a, 75)\n",
    "n=len(a)\n",
    "mean1=np.mean(a)\n",
    "sigma1=np.sqrt((1/(n-1))*np.sum((a-np.mean(a))**2))\n",
    "iqr=q3_a-q1_a\n",
    "v= a<q1_a-1.5*iqr \n",
    "v1= a>q3_a+1.5*iqr\n",
    "j=0\n",
    "for i in range(n):\n",
    "    if v[i]==True or v1[i]==True:\n",
    "        a[i]=0\n",
    "        j+=1\n",
    "for i in range(j):\n",
    "    a.remove(0)\n",
    "mean2=np.mean(a)\n",
    "sigma2=np.sqrt((1/(n-1))*np.sum((a-np.mean(a))**2))\n",
    "print(\"Среднее с выбросами:\",mean1)\n",
    "print(\"Среднее без выбросов:\",mean2)\n",
    "print(\"Среднеквартильное отклонение с выбросами:\",sigma1)\n",
    "print(\"Среднеквартильное отклонение без выбросов:\",sigma2)"
   ]
  },
  {
   "cell_type": "code",
   "execution_count": null,
   "id": "6292a4b8-2442-4cda-9db7-146587cd18e3",
   "metadata": {},
   "outputs": [],
   "source": []
  }
 ],
 "metadata": {
  "kernelspec": {
   "display_name": "Python 3 (ipykernel)",
   "language": "python",
   "name": "python3"
  },
  "language_info": {
   "codemirror_mode": {
    "name": "ipython",
    "version": 3
   },
   "file_extension": ".py",
   "mimetype": "text/x-python",
   "name": "python",
   "nbconvert_exporter": "python",
   "pygments_lexer": "ipython3",
   "version": "3.9.12"
  }
 },
 "nbformat": 4,
 "nbformat_minor": 5
}
