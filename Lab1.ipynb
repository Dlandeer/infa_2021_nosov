{
 "cells": [
  {
   "cell_type": "raw",
   "id": "3680eb51-7684-4d82-ae3b-7b52d1d75adf",
   "metadata": {},
   "source": [
    "# Упражнение 1"
   ]
  },
  {
   "cell_type": "code",
   "execution_count": null,
   "id": "e2a061e4",
   "metadata": {
    "tags": []
   },
   "outputs": [
    {
     "name": "stdout",
     "output_type": "stream",
     "text": [
      "9\n",
      "1\n",
      "2\n",
      "2\n",
      "3\n",
      "3\n",
      "4\n",
      "4\n",
      "5\n",
      "5\n",
      "3\n"
     ]
    }
   ],
   "source": [
    "import numpy\n",
    "n=int(input())\n",
    "x=[n]\n",
    "i=0\n",
    "for i in range(n):\n",
    "    j=int(input())\n",
    "    x.append(j)\n",
    "if n%2==1:\n",
    "    print(x[n//2+1])\n",
    "else:\n",
    "    print((x[n//2]+x[n//2+1])/2)"
   ]
  },
  {
   "cell_type": "markdown",
   "id": "bea347e0",
   "metadata": {},
   "source": [
    "# Упражнение 2"
   ]
  },
  {
   "cell_type": "code",
   "execution_count": 6,
   "id": "b4df3907",
   "metadata": {},
   "outputs": [
    {
     "name": "stdin",
     "output_type": "stream",
     "text": [
      " 10\n",
      " 1\n",
      " 2\n",
      " 3\n",
      " 4\n",
      " 5\n",
      " 6\n",
      " 7\n",
      " 8\n",
      " 9\n",
      " 10\n"
     ]
    },
    {
     "name": "stdout",
     "output_type": "stream",
     "text": [
      "3.348450568863338\n",
      "4.5\n"
     ]
    }
   ],
   "source": [
    "import numpy as np\n",
    "n=int(input())\n",
    "x=[n]\n",
    "i=0\n",
    "for i in range(n):\n",
    "    j=int(input())\n",
    "    x.append(j)\n",
    "D=(1/(n-1))*np.sum((x-np.mean(x))**2)\n",
    "s=np.sqrt(D)\n",
    "r=((x[n//4]+x[n//4+1])/2+(x[(n//4)*3]+x[(n//4)*3+1])/2)/2\n",
    "print(s)\n",
    "print(r)"
   ]
  },
  {
   "cell_type": "markdown",
   "id": "1ba1d960-e8ce-40ec-a958-7a045a8bf79a",
   "metadata": {},
   "source": [
    "#Упражнение 3"
   ]
  },
  {
   "cell_type": "code",
   "execution_count": 9,
   "id": "1b3008bf-882b-40e4-94e8-f42de9229d9a",
   "metadata": {},
   "outputs": [
    {
     "data": {
      "text/plain": [
       "<function matplotlib.pyplot.show(close=None, block=None)>"
      ]
     },
     "execution_count": 9,
     "metadata": {},
     "output_type": "execute_result"
    },
    {
     "data": {
      "image/png": "[encoded data removed]",
      "text/plain": [
       "<Figure size 432x288 with 6 Axes>"
      ]
     },
     "metadata": {
      "needs_background": "light"
     },
     "output_type": "display_data"
    }
   ],
   "source": [
    "import matplotlib.pyplot as plt\n",
    "colors=['red','blue','orange','green','purple']\n",
    "labels=['А','Б','В','Г','Д']\n",
    "x=[1,2,3,4,5]\n",
    "y=[16,18,20,22,24]\n",
    "sp=plt.subplot(3,2,1)\n",
    "plt.bar(x,y,color=colors,edgecolor='k',tick_label=labels)\n",
    "sp=plt.subplot(3,2,2)\n",
    "plt.title(\"Результаты опроса 1\",size=14)\n",
    "plt.pie(y,labels=labels)\n",
    "y=[20,20,18,22,20]\n",
    "sp=plt.subplot(3,2,3)\n",
    "plt.bar(x,y,color=colors,edgecolor='k',tick_label=labels)\n",
    "sp=plt.subplot(3,2,4)\n",
    "plt.title(\"Результаты опроса 2\",size=14)\n",
    "plt.pie(y,labels=labels)\n",
    "y=[24,22,20,18,16]\n",
    "sp=plt.subplot(3,2,5)\n",
    "plt.bar(x,y,color=colors,edgecolor='k',tick_label=labels)\n",
    "sp=plt.subplot(3,2,6)\n",
    "plt.title(\"Результаты опроса 3\",size=14)\n",
    "plt.pie(y,labels=labels)\n",
    "plt.show"
   ]
  },
  {
   "cell_type": "markdown",
   "id": "e0e316da-4ceb-443c-b03f-2b0162912219",
   "metadata": {},
   "source": [
    "На мой взгляд столбчатая диграмма более наглядна"
   ]
  }
 ],
 "metadata": {
  "kernelspec": {
   "display_name": "Python 3 (ipykernel)",
   "language": "python",
   "name": "python3"
  },
  "language_info": {
   "codemirror_mode": {
    "name": "ipython",
    "version": 3
   },
   "file_extension": ".py",
   "mimetype": "text/x-python",
   "name": "python",
   "nbconvert_exporter": "python",
   "pygments_lexer": "ipython3",
   "version": "3.9.12"
  }
 },
 "nbformat": 4,
 "nbformat_minor": 5
}
